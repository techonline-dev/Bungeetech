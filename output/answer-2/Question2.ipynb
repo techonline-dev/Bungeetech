{
  "nbformat": 4,
  "nbformat_minor": 0,
  "metadata": {
    "colab": {
      "name": "Question2.ipynb",
      "private_outputs": true,
      "provenance": []
    },
    "kernelspec": {
      "name": "python3",
      "display_name": "Python 3"
    },
    "language_info": {
      "name": "python"
    }
  },
  "cells": [
    {
      "cell_type": "code",
      "metadata": {
        "id": "27jevLNotHUc"
      },
      "source": [
        "from google.colab import files\n",
        "uploaded = files.upload()"
      ],
      "execution_count": null,
      "outputs": []
    },
    {
      "cell_type": "code",
      "metadata": {
        "id": "SoyHJ-M0tEGx"
      },
      "source": [
        "import pandas as pd\n",
        "df=pd.read_csv('main.csv')\n",
        "result=df.groupby('occupation').agg({'age':['min','max']})\n",
        "print(result)"
      ],
      "execution_count": null,
      "outputs": []
    },
    {
      "cell_type": "code",
      "metadata": {
        "id": "5UYUbDyMvROa"
      },
      "source": [
        "from google.colab import files\n",
        "result.to_csv('Answer2.csv')\n",
        "files.download('Answer2.csv')"
      ],
      "execution_count": null,
      "outputs": []
    }
  ]
}